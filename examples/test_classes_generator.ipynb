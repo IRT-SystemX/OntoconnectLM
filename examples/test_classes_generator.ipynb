{
 "cells": [
  {
   "cell_type": "markdown",
   "metadata": {},
   "source": [
    "# Tests des objects Onto Connect\n",
    "\n",
    "`pip install langchain langchain-ollama`"
   ]
  },
  {
   "cell_type": "markdown",
   "metadata": {},
   "source": [
    "### Test import"
   ]
  },
  {
   "cell_type": "code",
   "execution_count": null,
   "metadata": {},
   "outputs": [],
   "source": [
    "from services.classes_generator import ClassesGenerator"
   ]
  },
  {
   "cell_type": "markdown",
   "metadata": {},
   "source": [
    "### Test instanciation"
   ]
  },
  {
   "cell_type": "code",
   "execution_count": null,
   "metadata": {},
   "outputs": [],
   "source": [
    "from langchain_ollama import OllamaLLM\n",
    "\n",
    "llm = OllamaLLM(base_url=\"127.0.0.1:11434\" , model=\"mistral-small3.1:24b\")\n",
    "\n",
    "context_description = \"Les textes portent sur des incidents sur un réseau électrique.\"\n",
    "competency_questions = [\n",
    "    \"Quels sont les événements survenus à une certaine date ?\",\n",
    "    \"De quoi est composé un événement ?\",\n",
    "    \"Quelles actions ont été implémentées sur le réseau sur ce créneau horaire [xx;yy] ?\",\n",
    "    \"Quels événements contextuels ont déclenché des événements réseau sur une certaine zone ?\"\n",
    "]\n",
    "\n",
    "generator = ClassesGenerator(\n",
    "    llm = llm,\n",
    "    context_description=context_description,\n",
    "    competency_questions=competency_questions\n",
    ")"
   ]
  },
  {
   "cell_type": "markdown",
   "metadata": {},
   "source": [
    "### Données de test"
   ]
  },
  {
   "cell_type": "code",
   "execution_count": null,
   "metadata": {},
   "outputs": [],
   "source": [
    "# Données réalistes avec valeurs modifiées\n",
    "\n",
    "texts = [\n",
    "    \"\"\"Date et heure: 01/01/2000 à 00h11\n",
    "Frontière: Espagne\n",
    "Impact(s) et action(s) réalisée(s): Détection d'oscillation de fréquence à la frontière. Pas d'évènement pouvant expliquer ces oscillations.\"\"\",\n",
    " \"\"\"Date et heure: 01/01/2000 à 00h11\n",
    "Frontière: Espagne\n",
    "Impact(s) et action(s) réalisée(s): Détection d'oscillation de fréquence à la frontière. Pas d'évènement pouvant expliquer ces oscillations.\"\"\",\n",
    " \"\"\"Date et heure: 01/01/2000 à 00h11\n",
    "Frontière: Espagne\n",
    "Impact(s) et action(s) réalisée(s): Détection d'oscillation de fréquence à la frontière. Pas d'évènement pouvant expliquer ces oscillations.\"\"\"\n",
    "\n",
    "]*5"
   ]
  },
  {
   "cell_type": "markdown",
   "metadata": {},
   "source": [
    "### Test visualisation prompt\n",
    "\n",
    "Facultatif, juste pour vérifier l'état du prompt avant appel"
   ]
  },
  {
   "cell_type": "code",
   "execution_count": null,
   "metadata": {},
   "outputs": [],
   "source": [
    "print(generator.format_prompt(texts).text)"
   ]
  },
  {
   "cell_type": "markdown",
   "metadata": {},
   "source": [
    "### Test génération"
   ]
  },
  {
   "cell_type": "code",
   "execution_count": null,
   "metadata": {},
   "outputs": [],
   "source": [
    "display(generator.run(texts, \n",
    "                      nb_classes=16))"
   ]
  },
  {
   "cell_type": "code",
   "execution_count": null,
   "metadata": {},
   "outputs": [],
   "source": [
    "import sys\n",
    "\n",
    "del sys.modules[\"classes_generator\"]"
   ]
  }
 ],
 "metadata": {
  "kernelspec": {
   "display_name": ".venv",
   "language": "python",
   "name": "python3"
  },
  "language_info": {
   "codemirror_mode": {
    "name": "ipython",
    "version": 3
   },
   "file_extension": ".py",
   "mimetype": "text/x-python",
   "name": "python",
   "nbconvert_exporter": "python",
   "pygments_lexer": "ipython3",
   "version": "3.12.3"
  }
 },
 "nbformat": 4,
 "nbformat_minor": 2
}
