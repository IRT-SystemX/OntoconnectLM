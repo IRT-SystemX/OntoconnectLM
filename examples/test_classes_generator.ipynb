{
 "cells": [
  {
   "cell_type": "markdown",
   "metadata": {},
   "source": [
    "# Test of the classes generator service"
   ]
  },
  {
   "cell_type": "markdown",
   "metadata": {},
   "source": [
    "### Import ontoconnectlm package"
   ]
  },
  {
   "cell_type": "code",
   "execution_count": null,
   "metadata": {},
   "outputs": [],
   "source": [
    "import sys\n",
    "sys.path.append(\"../\")"
   ]
  },
  {
   "cell_type": "markdown",
   "metadata": {},
   "source": [
    "### Import"
   ]
  },
  {
   "cell_type": "code",
   "execution_count": null,
   "metadata": {},
   "outputs": [],
   "source": [
    "from ontoconnectlm.classes_generator import ClassesGenerator"
   ]
  },
  {
   "cell_type": "markdown",
   "metadata": {},
   "source": [
    "### Object setup"
   ]
  },
  {
   "cell_type": "code",
   "execution_count": null,
   "metadata": {},
   "outputs": [],
   "source": [
    "# Define the LLM object you would like to use\n",
    "from langchain_ollama import OllamaLLM\n",
    "\n",
    "llm = OllamaLLM(base_url=\"127.0.0.1:11434\" , model=\"mistral-small3.1:24b\")\n",
    "\n",
    "context_description = \"Les textes portent sur des incidents sur un réseau électrique.\"\n",
    "competency_questions = [\n",
    "    \"Quels sont les événements survenus à une certaine date ?\",\n",
    "    \"De quoi est composé un événement ?\",\n",
    "    \"Quelles actions ont été implémentées sur le réseau sur ce créneau horaire [xx;yy] ?\",\n",
    "    \"Quels événements contextuels ont déclenché des événements réseau sur une certaine zone ?\"\n",
    "]\n",
    "\n",
    "generator = ClassesGenerator(\n",
    "    llm = llm,\n",
    "    context_description=context_description,\n",
    "    competency_questions=competency_questions\n",
    ")"
   ]
  },
  {
   "cell_type": "markdown",
   "metadata": {},
   "source": [
    "### Input text (end-user)"
   ]
  },
  {
   "cell_type": "code",
   "execution_count": null,
   "metadata": {},
   "outputs": [],
   "source": [
    "# Données réalistes avec valeurs modifiées\n",
    "\n",
    "texts = [\n",
    "    \"\"\"Date et heure: 20/04/2012 à 07h11\n",
    "Frontière: Belgique\n",
    "Impact(s) et action(s) réalisée(s): Détection d'oscillation de fréquence à la frontière France Belgique par IDE. Pas d'évènement pouvant expliquer ces oscillations en France.\"\"\",\n",
    "\n",
    "\"\"\"Date et heure: 08/07/2003 à 08h40\n",
    "Centre: Haute-Normandie\n",
    "Ouvrage(s) concerné(s): Coupure longue de l'ACR de Nogent-sur-Marne au poste de Villejuif 225 kV (16 MW pendant 5 minutes) suite au déclenchement de la liaison 225 kV MASSY-PALAISEAU 4. Cf. MIN.\n",
    "Impact(s): Cf. MIN.\"\"\",\n",
    "\n",
    "\"\"\"Date et heure: 19/04/2016 à 16h32\n",
    "Centre: Bordeaux\n",
    "Ouvrage(s) concerné(s): Coupure longue des clients SystemX au poste de GIF 63 kV et CEA au poste de ETABLI 93 kV suite au déclenchement des lignes 93 kV TONNERRE-NUITS-SAINT-GEORGES 1 et BORDEAUX-SAINT-JEAN 93 kV.\n",
    "Impact(s): Coupure du CNRS.\"\"\"\n",
    "]"
   ]
  },
  {
   "cell_type": "markdown",
   "metadata": {},
   "source": [
    "### Test classes generation"
   ]
  },
  {
   "cell_type": "code",
   "execution_count": null,
   "metadata": {},
   "outputs": [],
   "source": [
    "display(generator.run(texts, \n",
    "                      nb_classes=16))"
   ]
  }
 ],
 "metadata": {
  "kernelspec": {
   "display_name": ".venv",
   "language": "python",
   "name": "python3"
  },
  "language_info": {
   "codemirror_mode": {
    "name": "ipython",
    "version": 3
   },
   "file_extension": ".py",
   "mimetype": "text/x-python",
   "name": "python",
   "nbconvert_exporter": "python",
   "pygments_lexer": "ipython3",
   "version": "3.12.3"
  }
 },
 "nbformat": 4,
 "nbformat_minor": 2
}
