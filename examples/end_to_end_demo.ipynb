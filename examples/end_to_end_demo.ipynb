{
 "cells": [
  {
   "cell_type": "markdown",
   "id": "f583aa10",
   "metadata": {},
   "source": [
    "# Example of end-to-end pipeline on example data"
   ]
  },
  {
   "cell_type": "markdown",
   "id": "28c85f18",
   "metadata": {},
   "source": [
    "## Import of ontoconnectlm packages"
   ]
  },
  {
   "cell_type": "code",
   "execution_count": null,
   "id": "8de8d15a",
   "metadata": {},
   "outputs": [],
   "source": [
    "import sys\n",
    "\n",
    "sys.path.append(\"../\")\n",
    "\n",
    "from ontoconnectlm.classes_generator import ClassesGenerator    # Service 1\n",
    "from ontoconnectlm.triplet_extractor import TripletExtractor    # Service 2\n",
    "from ontoconnectlm.owl_generator import OwlGenerator            # Service 3\n",
    "from ontoconnectlm.onto_enricher import OntoEnricher            # Service 4\n",
    "from ontoconnectlm.onto_eval import Onto_Evaluator              # Service 5"
   ]
  },
  {
   "cell_type": "markdown",
   "id": "eefdb067",
   "metadata": {},
   "source": [
    "## Loading of texts\n",
    "\n",
    "Below are examples of French texts dealing with nuclear engineering requirements"
   ]
  },
  {
   "cell_type": "code",
   "execution_count": null,
   "id": "6b62672f",
   "metadata": {},
   "outputs": [],
   "source": [
    "texts = [\n",
    "    \"#0001_Le condenseur principal doit recevoir les condensats provenant de réchauffeurs basse pression (B.P.), l'eau d'appoint à l'eau condensée, l'eau et la vapeur des purges de divers matériels et, s'il y a lieu, l'eau condensée provenant des condenseurs auxiliaires.\",\n",
    "    \"#0002_Pour la réalisation de tout revêtement par soudage, le Titulaire doit soumettre à l'Entreprise pour accord, les dispositions prévues pour pallier les risques de fissuration à froid et de fissuration au réchauffage. Les défauts sous revêtement doivent être prohibés.\",\n",
    "    \"#0003_Toutes les tubulures sont placées sur le plateau de serrage fixe.s\",\n",
    "    \"#0004_Le code de dimensionnement de la platine du pied support (à l'interface entre le matériel et le Génie Civil ou l'ossature métallique) doit être le code de dimensionnement du matériel.\",\n",
    "    \"#0005_Le condenseur principal doit assurer l'extraction des gaz incondensables de l'ensemble du circuit eau-vapeur à l'exclusion de ceux des condenseurs auxiliaires.\",\n",
    "    \"#0006_Toute intervention, d'inspection en service, d'entretien et de nettoyage ou de remplacement de pièces d'usure, définie sur le matériel doit s'inscrire dans une fenêtre temporelle définie au CCTP.\"\n",
    "]"
   ]
  },
  {
   "cell_type": "markdown",
   "id": "c798f311",
   "metadata": {},
   "source": [
    "## Service 1"
   ]
  },
  {
   "cell_type": "code",
   "execution_count": null,
   "id": "76f7b912",
   "metadata": {},
   "outputs": [],
   "source": [
    "from langchain_ollama import OllamaLLM\n",
    "\n",
    "llm = OllamaLLM(base_url=\"127.0.0.1:11434\" , model=\"mistral-small3.1:24b\") # Change with your llm instance\n",
    "\n",
    "context_description = \"Les textes portent sur des exigences formulées dans le domaine nucléaire.\"\n",
    "\n",
    "generator = ClassesGenerator(\n",
    "    llm = llm,\n",
    "    context_description=context_description,\n",
    ")\n",
    "\n",
    "found_classes = generator.run(\n",
    "    texts = texts,\n",
    "    nb_classes = 6\n",
    ")\n",
    "\n",
    "display(found_classes)"
   ]
  },
  {
   "cell_type": "markdown",
   "id": "2bb42e18",
   "metadata": {},
   "source": [
    "## Service 2"
   ]
  },
  {
   "cell_type": "code",
   "execution_count": null,
   "id": "8543e737",
   "metadata": {},
   "outputs": [],
   "source": [
    "# Setting extraction based on schema generated at step 1\n",
    "entity_types = found_classes\n",
    "\n",
    "relation_types = [\n",
    "    \"IS_ASSOCIATED_WITH\",\n",
    "\n",
    "    \"IS_COMPLIANT_WITH\",\n",
    "\n",
    "    \"IS_DELIVERED_TO\",\n",
    "\n",
    "    \"IS_DESCRIBED_IN\",\n",
    "\n",
    "    \"IS_PROVIDING\",\n",
    "]\n",
    "\n",
    "\n",
    "extractor = TripletExtractor(\n",
    "    llm = llm,\n",
    "    context_description=context_description,\n",
    "    entity_types=entity_types,\n",
    "    relation_types=relation_types\n",
    ")"
   ]
  },
  {
   "cell_type": "code",
   "execution_count": null,
   "id": "4c2be3c9",
   "metadata": {},
   "outputs": [],
   "source": [
    "triples = extractor.run(texts) "
   ]
  },
  {
   "cell_type": "code",
   "execution_count": null,
   "id": "945020b3",
   "metadata": {},
   "outputs": [],
   "source": [
    "triples"
   ]
  },
  {
   "cell_type": "code",
   "execution_count": null,
   "id": "1c0971bf",
   "metadata": {},
   "outputs": [],
   "source": [
    "for i in range(0,len(triples)):\n",
    "        for triple in triples[i]:\n",
    "                print(triple[\"head\"] , \" (\" , triple[\"head_type\"] , \") \" , triple[\"label\"], triple[\"tail\"] , \" (\" , triple[\"tail_type\"] , \") \")\n",
    "                # Générer une liste finale des sorties de l'ontologie"
   ]
  },
  {
   "cell_type": "markdown",
   "id": "6b240609",
   "metadata": {},
   "source": [
    "## Service 3 : Owl Generation"
   ]
  },
  {
   "cell_type": "markdown",
   "id": "616f69bf",
   "metadata": {},
   "source": [
    "### Defining prerequisites for the ontology\n",
    "\n",
    "Note : it is important for entity types to be in lowercases"
   ]
  },
  {
   "cell_type": "code",
   "execution_count": null,
   "id": "fc9bd565",
   "metadata": {},
   "outputs": [],
   "source": [
    "# Defining classes as capital letter form of entity type\n",
    "\n",
    "entity_linker = {\n",
    "    \"other\": \"other\"\n",
    "}\n",
    "\n",
    "for entity_type in entity_types:\n",
    "    entity_linker[entity_type.lower()] = entity_type.capitalize()\n",
    "\n",
    "entity_linker"
   ]
  },
  {
   "cell_type": "markdown",
   "id": "a794f1e2",
   "metadata": {},
   "source": [
    "### Optional (if you want to enforce some classes and properties in the ontology)"
   ]
  },
  {
   "cell_type": "code",
   "execution_count": null,
   "id": "ec8ca73b",
   "metadata": {},
   "outputs": [],
   "source": [
    "required_classes = [\"Actor\", \"Operation\", \"System\"]\n",
    "required_properties = {}\n",
    "onto_uri = \"http://smd#\""
   ]
  },
  {
   "cell_type": "code",
   "execution_count": null,
   "id": "bacefe24",
   "metadata": {},
   "outputs": [],
   "source": [
    "config = {\n",
    "    \"entity_linker\" : entity_linker,\n",
    "    \"additional_classes\" : required_classes,\n",
    "    \"additional_properties\" : required_properties\n",
    "}"
   ]
  },
  {
   "cell_type": "markdown",
   "id": "cc5745fc",
   "metadata": {},
   "source": [
    "### Gathering all triples together"
   ]
  },
  {
   "cell_type": "code",
   "execution_count": null,
   "id": "e6683a74",
   "metadata": {},
   "outputs": [],
   "source": [
    "all_triples = []\n",
    "for sentence_triples in triples:\n",
    "    for triple in sentence_triples:\n",
    "        all_triples.append(triple)"
   ]
  },
  {
   "cell_type": "code",
   "execution_count": null,
   "id": "cb650c55",
   "metadata": {},
   "outputs": [],
   "source": [
    "owl_generator = OwlGenerator(\n",
    "    triples = all_triples,\n",
    "    config= config,\n",
    "    onto_uri = onto_uri\n",
    ")"
   ]
  },
  {
   "cell_type": "code",
   "execution_count": null,
   "id": "240d2e7f",
   "metadata": {},
   "outputs": [],
   "source": [
    "result_ontology = owl_generator.create_ontology()\n",
    "\n",
    "print(result_ontology)"
   ]
  },
  {
   "cell_type": "markdown",
   "id": "572c809b",
   "metadata": {},
   "source": [
    "## Service 4 : Ontology enricher from DBpedia and Wikidata"
   ]
  },
  {
   "cell_type": "code",
   "execution_count": null,
   "id": "b376259e",
   "metadata": {},
   "outputs": [],
   "source": [
    "onto_enricher = OntoEnricher(ontology_content=result_ontology)\n",
    "\n",
    "enriched_ontology = onto_enricher.run_all_enrichments(enrichment_mode=\"classes\")"
   ]
  },
  {
   "cell_type": "code",
   "execution_count": null,
   "id": "97f7feb5",
   "metadata": {},
   "outputs": [],
   "source": [
    "print(enriched_ontology)"
   ]
  },
  {
   "cell_type": "markdown",
   "id": "f7b6f9a9",
   "metadata": {},
   "source": [
    "### Optional : save ontology in file"
   ]
  },
  {
   "cell_type": "code",
   "execution_count": null,
   "id": "3cf05e20",
   "metadata": {},
   "outputs": [],
   "source": [
    "with open(\"enriched_ontology.owl\" , 'w') as write_file:\n",
    "    write_file.write(enriched_ontology)"
   ]
  },
  {
   "cell_type": "markdown",
   "id": "ffeda31a",
   "metadata": {},
   "source": [
    "## Service 5 : Ontology evaluation"
   ]
  },
  {
   "cell_type": "code",
   "execution_count": null,
   "id": "9c70c66e",
   "metadata": {},
   "outputs": [],
   "source": [
    "evaluator = Onto_Evaluator(ontology_content=enriched_ontology, \n",
    "                           ontology_uri = onto_uri)"
   ]
  },
  {
   "cell_type": "markdown",
   "id": "21f8adb5",
   "metadata": {},
   "source": [
    "### OOPS eval"
   ]
  },
  {
   "cell_type": "code",
   "execution_count": null,
   "id": "99c64e05",
   "metadata": {},
   "outputs": [],
   "source": [
    "evaluator.eval_oops()"
   ]
  },
  {
   "cell_type": "code",
   "execution_count": null,
   "id": "24cac063",
   "metadata": {},
   "outputs": [],
   "source": [
    "evaluator.eval_fair()"
   ]
  }
 ],
 "metadata": {
  "kernelspec": {
   "display_name": ".venv",
   "language": "python",
   "name": "python3"
  },
  "language_info": {
   "codemirror_mode": {
    "name": "ipython",
    "version": 3
   },
   "file_extension": ".py",
   "mimetype": "text/x-python",
   "name": "python",
   "nbconvert_exporter": "python",
   "pygments_lexer": "ipython3",
   "version": "3.12.3"
  }
 },
 "nbformat": 4,
 "nbformat_minor": 5
}
