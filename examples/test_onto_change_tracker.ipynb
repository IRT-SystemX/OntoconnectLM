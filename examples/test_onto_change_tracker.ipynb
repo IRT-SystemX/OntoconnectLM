{
 "cells": [
  {
   "cell_type": "markdown",
   "id": "302c297c",
   "metadata": {},
   "source": [
    "### Test Ontology change tracker OntoConnect "
   ]
  },
  {
   "cell_type": "code",
   "execution_count": null,
   "id": "fec68107",
   "metadata": {},
   "outputs": [],
   "source": [
    "from services.ontology_change_tracker import OntologyChangeTracker"
   ]
  },
  {
   "cell_type": "code",
   "execution_count": null,
   "id": "77a13ffa",
   "metadata": {},
   "outputs": [],
   "source": [
    "old_ontology_path = \"onto1.owl\"\n",
    "new_ontology_path = \"onto2.owl\""
   ]
  },
  {
   "cell_type": "code",
   "execution_count": null,
   "id": "7dc6a9dd",
   "metadata": {},
   "outputs": [],
   "source": [
    "tracker = OntologyChangeTracker(old_ontology_path, new_ontology_path)\n",
    "tracker.report_changes()"
   ]
  }
 ],
 "metadata": {
  "kernelspec": {
   "display_name": "SMD_environment",
   "language": "python",
   "name": "python3"
  },
  "language_info": {
   "codemirror_mode": {
    "name": "ipython",
    "version": 3
   },
   "file_extension": ".py",
   "mimetype": "text/x-python",
   "name": "python",
   "nbconvert_exporter": "python",
   "pygments_lexer": "ipython3",
   "version": "3.11.5"
  }
 },
 "nbformat": 4,
 "nbformat_minor": 5
}
