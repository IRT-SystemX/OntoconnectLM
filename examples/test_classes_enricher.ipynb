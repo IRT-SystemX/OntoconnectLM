{
 "cells": [
  {
   "cell_type": "markdown",
   "id": "fb83dd65",
   "metadata": {},
   "source": [
    "# Test ontology  class enrichment OntoConnect"
   ]
  },
  {
   "cell_type": "markdown",
   "id": "68f26e5f",
   "metadata": {},
   "source": [
    "## Import ontoconnectlm package"
   ]
  },
  {
   "cell_type": "code",
   "execution_count": null,
   "id": "e2841580",
   "metadata": {},
   "outputs": [],
   "source": [
    "import sys\n",
    "\n",
    "sys.path.append(\"../\")"
   ]
  },
  {
   "cell_type": "markdown",
   "id": "2d40534c",
   "metadata": {},
   "source": [
    "Load your ontology file and put it in the filepath"
   ]
  },
  {
   "cell_type": "code",
   "execution_count": null,
   "id": "1a11adcb",
   "metadata": {},
   "outputs": [],
   "source": [
    "filepath = \"example_ontology.owl\"\n",
    "\n",
    "with open( filepath , 'r') as read_file:\n",
    "    ontology_content = read_file.read()"
   ]
  },
  {
   "cell_type": "markdown",
   "id": "9c8fef32",
   "metadata": {},
   "source": [
    "## DBpedia querying"
   ]
  },
  {
   "cell_type": "code",
   "execution_count": null,
   "id": "691fa75e",
   "metadata": {},
   "outputs": [],
   "source": [
    "from ontoconnectlm.ontology_enrichment.dbpedia_entity_linking import DBpedia_linking \n",
    "\n",
    "DB_enricher = DBpedia_linking()\n",
    "\n",
    "enrichment_results = DB_enricher.dbpedia_enrichment(ontology_content = ontology_content)\n",
    "\n",
    "enrichment_results"
   ]
  },
  {
   "cell_type": "markdown",
   "id": "8cc68175",
   "metadata": {},
   "source": [
    "## Wikidata metadata collection"
   ]
  },
  {
   "cell_type": "code",
   "execution_count": null,
   "id": "1b1aeb1e",
   "metadata": {},
   "outputs": [],
   "source": [
    "from ontoconnectlm.ontology_enrichment.wikidata_entity_linking import Wikidata_linking \n",
    "\n",
    "Wiki_enricher = Wikidata_linking()\n",
    "\n",
    "with open(\"example_ontology.owl\" , 'r') as read_file:\n",
    "    ontology_content = read_file.read()\n",
    "\n",
    "wikidata_results = Wiki_enricher.wikidata_enrichment(ontology_content=ontology_content)\n",
    "\n",
    "wikidata_results\n"
   ]
  },
  {
   "cell_type": "markdown",
   "id": "ba1005d2",
   "metadata": {},
   "source": [
    "## Update of the ontology"
   ]
  },
  {
   "cell_type": "code",
   "execution_count": null,
   "id": "4ae5fe45",
   "metadata": {},
   "outputs": [],
   "source": [
    "from ontoconnectlm.ontology_enrichment.onto_updater import Onto_Updater\n",
    "\n",
    "updater = Onto_Updater(\n",
    "    dbpedia_results=enrichment_results,\n",
    "    wikidata_results=wikidata_results,\n",
    "    ontology_content=ontology_content\n",
    ")"
   ]
  },
  {
   "cell_type": "markdown",
   "id": "4ee7eeb4",
   "metadata": {},
   "source": [
    "### Option 1 : Adding retrieved metadata as new classes in the ontology"
   ]
  },
  {
   "cell_type": "code",
   "execution_count": null,
   "id": "5968a275",
   "metadata": {},
   "outputs": [],
   "source": [
    "result_ontology = updater.update_ontology(enrichment_mode=\"classes\")"
   ]
  },
  {
   "cell_type": "code",
   "execution_count": null,
   "id": "6c647964",
   "metadata": {},
   "outputs": [],
   "source": [
    "print(result_ontology)"
   ]
  },
  {
   "cell_type": "markdown",
   "id": "c9faf054",
   "metadata": {},
   "source": [
    "### Save the ontology"
   ]
  },
  {
   "cell_type": "code",
   "execution_count": null,
   "id": "d7b62c44",
   "metadata": {},
   "outputs": [],
   "source": [
    "with open(\"result_ontology.owl\" , 'w') as write_file:\n",
    "    write_file.write(result_ontology)"
   ]
  },
  {
   "cell_type": "markdown",
   "id": "0de79d6a",
   "metadata": {},
   "source": [
    "## Option 2 : Adding retrieved information as metadata from existing individuals"
   ]
  },
  {
   "cell_type": "code",
   "execution_count": null,
   "id": "4cd419e2",
   "metadata": {},
   "outputs": [],
   "source": [
    "result_ontology = updater.update_ontology(enrichment_mode=\"individuals\")"
   ]
  },
  {
   "cell_type": "code",
   "execution_count": null,
   "id": "2537a456",
   "metadata": {},
   "outputs": [],
   "source": [
    "print(result_ontology)"
   ]
  },
  {
   "cell_type": "markdown",
   "id": "661611e0",
   "metadata": {},
   "source": [
    "### Save the ontology"
   ]
  },
  {
   "cell_type": "code",
   "execution_count": null,
   "id": "42617bd1",
   "metadata": {},
   "outputs": [],
   "source": [
    "with open(\"result_ontology.owl\" , 'w') as write_file:\n",
    "    write_file.write(result_ontology)"
   ]
  },
  {
   "cell_type": "markdown",
   "id": "6482185f",
   "metadata": {},
   "source": [
    "## Test of end-to-end execution"
   ]
  },
  {
   "cell_type": "code",
   "execution_count": null,
   "id": "ee73779c",
   "metadata": {},
   "outputs": [],
   "source": [
    "from ontoconnectlm.onto_enricher import OntoEnricher\n",
    "\n",
    "enrincher = OntoEnricher(ontology_content=ontology_content)\n",
    "\n",
    "result_ontology = enrincher.run_all_enrichments(enrichment_mode=\"individuals\")"
   ]
  },
  {
   "cell_type": "code",
   "execution_count": null,
   "id": "207cee5d",
   "metadata": {},
   "outputs": [],
   "source": [
    "print(result_ontology)"
   ]
  }
 ],
 "metadata": {
  "kernelspec": {
   "display_name": ".venv",
   "language": "python",
   "name": "python3"
  },
  "language_info": {
   "codemirror_mode": {
    "name": "ipython",
    "version": 3
   },
   "file_extension": ".py",
   "mimetype": "text/x-python",
   "name": "python",
   "nbconvert_exporter": "python",
   "pygments_lexer": "ipython3",
   "version": "3.12.3"
  }
 },
 "nbformat": 4,
 "nbformat_minor": 5
}
