{
 "cells": [
  {
   "cell_type": "markdown",
   "id": "fb83dd65",
   "metadata": {},
   "source": [
    "### Test ontology  class enrichment OntoConnect"
   ]
  },
  {
   "cell_type": "code",
   "execution_count": null,
   "id": "437b1a44",
   "metadata": {},
   "outputs": [],
   "source": [
    "import os\n",
    "from services.dbpedia_entity_linking import DBpedia_linking \n",
    "from services.wikidata_entity_linking import Wikidata_linking \n",
    "from services.onto_class_entity_linking import onto_linking\n"
   ]
  },
  {
   "cell_type": "markdown",
   "id": "f5aa2e70",
   "metadata": {},
   "source": [
    "### Load data"
   ]
  },
  {
   "cell_type": "code",
   "execution_count": null,
   "id": "67387318",
   "metadata": {},
   "outputs": [],
   "source": [
    "dbpedia_output = os.path.join(\"dbpedia_EL_results.xlsx\")\n",
    "wikidata_output = os.path.join(\"wikidata_EL_results.xlsx\")\n",
    "pop_onto = os.path.join(\"pop_onto_file_name.owl\") \n",
    "enrich_onto = os.path.join(\"enriched_onto_file_name.owl\")"
   ]
  },
  {
   "cell_type": "markdown",
   "id": "2d40534c",
   "metadata": {},
   "source": [
    "### DBpedia metadata collection"
   ]
  },
  {
   "cell_type": "code",
   "execution_count": null,
   "id": "1a11adcb",
   "metadata": {},
   "outputs": [],
   "source": [
    "DB_enricher = DBpedia_linking(pop_onto,\n",
    "                                    dbpedia_output)\n",
    "DB_enricher.enrich_entities() # extract metadata and save results in an Excel file"
   ]
  },
  {
   "cell_type": "markdown",
   "id": "8cc68175",
   "metadata": {},
   "source": [
    "### Wikidata metadata collection"
   ]
  },
  {
   "cell_type": "code",
   "execution_count": null,
   "id": "1b1aeb1e",
   "metadata": {},
   "outputs": [],
   "source": [
    "Wiki_enricher = Wikidata_linking(pop_onto, \n",
    "                                      wikidata_output\n",
    "                                )\n",
    "Wiki_enricher.enrich_entities() # extract metadata and save the date into an Excel file\n"
   ]
  },
  {
   "cell_type": "markdown",
   "id": "4e857148",
   "metadata": {},
   "source": [
    "### Enriched OWL ontology generation "
   ]
  },
  {
   "cell_type": "code",
   "execution_count": null,
   "id": "0ad28bb5",
   "metadata": {},
   "outputs": [],
   "source": [
    "onto_linker = onto_linking(\n",
    "    dbpedia_path= dbpedia_output,\n",
    "    wikidata_path= wikidata_output,\n",
    "    onto_pop_path= pop_onto,\n",
    "    onto_enriched_path= enrich_onto\n",
    ")\n",
    "onto_linker.run() # enrich the ontology with the collected metadata and generate owl file"
   ]
  }
 ],
 "metadata": {
  "kernelspec": {
   "display_name": "SMD_environment",
   "language": "python",
   "name": "python3"
  },
  "language_info": {
   "codemirror_mode": {
    "name": "ipython",
    "version": 3
   },
   "file_extension": ".py",
   "mimetype": "text/x-python",
   "name": "python",
   "nbconvert_exporter": "python",
   "pygments_lexer": "ipython3",
   "version": "3.11.5"
  }
 },
 "nbformat": 4,
 "nbformat_minor": 5
}
