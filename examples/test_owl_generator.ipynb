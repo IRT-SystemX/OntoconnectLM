{
 "cells": [
  {
   "cell_type": "markdown",
   "metadata": {},
   "source": [
    "# Tests du service owl generation"
   ]
  },
  {
   "cell_type": "markdown",
   "metadata": {},
   "source": [
    "`pip install owlapy==1.5.0`"
   ]
  },
  {
   "cell_type": "markdown",
   "metadata": {},
   "source": [
    "### Test import"
   ]
  },
  {
   "cell_type": "code",
   "execution_count": null,
   "metadata": {},
   "outputs": [],
   "source": [
    "from services.owl_generator import OwlGenerator"
   ]
  },
  {
   "cell_type": "markdown",
   "metadata": {},
   "source": [
    "### Données de test"
   ]
  },
  {
   "cell_type": "code",
   "execution_count": null,
   "metadata": {},
   "outputs": [],
   "source": [
    "# Données réalistes avec valeurs modifiées\n",
    "\n",
    "triples = [\n",
    "    {'label': 'occuredAtTime',\n",
    "  'head': \"Détection d'oscillation de fréquence\",\n",
    "  'head_type': 'Event',\n",
    "  'tail': '20/01/2000 à 00h11',\n",
    "  'tail_type': 'Datetime'},\n",
    "\n",
    " {'label': 'occuredAtPlace',\n",
    "  'head': \"Détection d'oscillation de fréquence\",\n",
    "  'head_type': 'Event',\n",
    "  'tail': 'Espagne',\n",
    "  'tail_type': 'Location'},\n",
    "\n",
    " {'label': 'occuredAtTime',\n",
    "  'head': \"Coupure longue de l'ACR\",\n",
    "  'head_type': 'Event',\n",
    "  'tail': '20/01/2000 à 08h40',\n",
    "  'tail_type': 'Datetime'},\n",
    "\n",
    " {'label': 'occuredAtPlace',\n",
    "  'head': \"Coupure longue de l'ACR\",\n",
    "  'head_type': 'Event',\n",
    "  'tail': 'Haute-Normandie',\n",
    "  'tail_type': 'Location'},\n",
    "\n",
    " {'label': 'affectedComponent',\n",
    "  'head': \"Coupure longue\",\n",
    "  'head_type': 'Event',\n",
    "  'tail': 'liaison 225 kV',\n",
    "  'tail_type': 'PowerComponent'},\n",
    "\n",
    " {'label': 'occuredAtTime',\n",
    "  'head': 'Coupure longue',\n",
    "  'head_type': 'Event',\n",
    "  'tail': '10/04/2010 à 10h02',\n",
    "  'tail_type': 'Datetime'},\n",
    "\n",
    " {'label': 'occuredAtPlace',\n",
    "  'head': 'Coupure longue',\n",
    "  'head_type': 'Event',\n",
    "  'tail': 'Bordeaux',\n",
    "  'tail_type': 'Location'},\n",
    "\n",
    " {'label': 'affectedComponent',\n",
    "  'head': 'Coupure longue',\n",
    "  'head_type': 'Event',\n",
    "  'tail': 'lignes 93 kV',\n",
    "  'tail_type': 'PowerComponent'},\n",
    "\n",
    " {'label': 'impactedClient',\n",
    "  'head': 'Coupure longue',\n",
    "  'head_type': 'Event',\n",
    "  'tail': 'SystemX',\n",
    "  'tail_type': 'Client'},\n",
    "\n",
    " {'label': 'impactedClient',\n",
    "  'head': 'Coupure longue',\n",
    "  'head_type': 'Event',\n",
    "  'tail': 'CEA',\n",
    "  'tail_type': 'Client'},\n",
    "  \n",
    " {'label': 'impactedClient',\n",
    "  'head': 'Coupure du cn.',\n",
    "  'head_type': 'Event',\n",
    "  'tail': 'CN',\n",
    "  'tail_type': 'Client'}\n",
    "]"
   ]
  },
  {
   "cell_type": "markdown",
   "metadata": {},
   "source": [
    "### Définition entity linker\n",
    "\n",
    "L'entity linker est le dictionnaire qui spécifie le nom des classes voulues dans l'ontologie pour les types d'entités trouvées dans les triplets.\n",
    "\n",
    "Par exemple, si les triplets mentionnent des entités de type \"PowerComponent\", on spécifie ici que la classe associée sera \"Infrastructure\".\n",
    "\n",
    "Préciser les clefs en minuscule."
   ]
  },
  {
   "cell_type": "code",
   "execution_count": null,
   "metadata": {},
   "outputs": [],
   "source": [
    "entity_linker = {\n",
    "    \"action\" : \"Action\",\n",
    "\n",
    "    \"border\" : \"Border\",\n",
    "\n",
    "    \"center_division\" : \"CenterDivision\",\n",
    "\n",
    "    \"client\" : \"ThirdPartyActor\",\n",
    "\n",
    "    \"criticality_level\" : \"CriticalityLevel\",\n",
    "\n",
    "    \"datetime\" : \"Datetime\",\n",
    "\n",
    "    \"duration\" : \"Duration\",\n",
    "\n",
    "    \"event\" : \"Event\",\n",
    "\n",
    "    \"event_impact\" : \"EventImpact\",\n",
    "\n",
    "    \"external_event\" : \"OriginEvent\",\n",
    "\n",
    "    \"location\" : \"GeographicalRegion\",\n",
    "\n",
    "    \"powercomponent\" : \"PowerSystemComponent\",\n",
    "\n",
    "    \"power\" : \"PowerFlow\",\n",
    "\n",
    "    \"substation\" : \"Substation\",\n",
    "\n",
    "    \"other\" :   \"Other\"\n",
    "}"
   ]
  },
  {
   "cell_type": "markdown",
   "metadata": {},
   "source": [
    "### Définition additional classes properties\n",
    "\n",
    "On spécifie ici quelles sont les classes et propriétés voulues dans l'ontologie.\n",
    "\n",
    "Par défaut, des classes et propriétés sont crées à partir des triplets. Mais on peut aussi en rajouter manuellement par ce biais."
   ]
  },
  {
   "cell_type": "code",
   "execution_count": null,
   "metadata": {},
   "outputs": [],
   "source": [
    "additional_classes = [\n",
    "    \"Event\",\n",
    "    \"Action\",\n",
    "    \"Coupling\",\n",
    "    \"Disconnection\",\n",
    "    \"Incident\",\n",
    "    \"PowerOutage\",\n",
    "    \"OriginEvent\",\n",
    "    \"EventImpact\",\n",
    "    \"Location\",\n",
    "    \"Border\",\n",
    "    \"GeographicalRegion\",\n",
    "    \"CenterDivision\",\n",
    "    \"ThirdPartyActor\",\n",
    "    \"Datetime\",\n",
    "    \"Duration\",\n",
    "    \"PowerSystemComponent\",\n",
    "    \"Transformer\",\n",
    "    \"Line\",\n",
    "    \"Generator\",\n",
    "    \"Capacitor\",\n",
    "    \"Substation\",\n",
    "    \"Measurement\",\n",
    "    \"PowerFlow\",\n",
    "    \"Voltage\",\n",
    "    \"CriticalityLevel\"\n",
    "]\n",
    "\n",
    "additional_properties = [\n",
    "    {\"name\" : \"managed_by\",\n",
    "     \"domain\" : \"PowerSystemComponent\",\n",
    "     \"range\" : \"CenterDivision\"},\n",
    "\n",
    "    {\"name\" : \"has_nominal_value\",\n",
    "     \"domain\" : \"PowerSystemComponent\",\n",
    "     \"range\" : \"Voltage\"},\n",
    "\n",
    "    {\"name\" : \"located_in\",\n",
    "     \"domain\" : \"PowerSystemComponent\",\n",
    "     \"range\" : \"GeographicalRegion\"},\n",
    "\n",
    "    {\"name\" : \"handled_by\",\n",
    "     \"domain\" : \"Incident\",\n",
    "     \"range\" : \"CenterDivision\"},\n",
    "\n",
    "    {\"name\" : \"occured_on\",\n",
    "     \"domain\" : \"Event\",\n",
    "     \"range\" : \"PowerSystemComponent\"},\n",
    "\n",
    "    {\"name\" : \"occured_in\",\n",
    "     \"domain\" : \"Event\",\n",
    "     \"range\" : \"Substation\"},\n",
    "\n",
    "    {\"name\" : \"linked_to\",\n",
    "     \"domain\" : \"Event\",\n",
    "     \"range\" : \"Event\"},\n",
    "\n",
    "    {\"name\" : \"consequence_of\",\n",
    "     \"domain\" : \"Event\",\n",
    "     \"range\" : \"Event\"},\n",
    "\n",
    "    {\"name\" : \"similar_to\",\n",
    "     \"domain\" : \"Event\",\n",
    "     \"range\" : \"Event\"},\n",
    "\n",
    "    {\"name\" : \"solved_by\",\n",
    "     \"domain\" : \"Incident\",\n",
    "     \"range\" : \"Action\"},\n",
    "\n",
    "    {\"name\" : \"has_criticality\",\n",
    "     \"domain\" : \"Incident\",\n",
    "     \"range\" : \"CriticalityLevel\"},\n",
    "\n",
    "    {\"name\" : \"has_impact\",\n",
    "     \"domain\" : \"Incident\",\n",
    "     \"range\" : \"EventImpact\"},\n",
    "\n",
    "    {\"name\" : \"of_electrical_power\",\n",
    "     \"domain\" : \"Event\",\n",
    "     \"range\" : \"PowerFlow\"},\n",
    "\n",
    "    {\"name\" : \"of_voltage\",\n",
    "     \"domain\" : \"Event\",\n",
    "     \"range\" : \"Voltage\"},\n",
    "\n",
    "    {\"name\" : \"occured_at_datetime\",\n",
    "     \"domain\" : \"Event\",\n",
    "     \"range\" : \"Datetime\"},\n",
    "\n",
    "    {\"name\" : \"lasted_for\",\n",
    "     \"domain\" : \"Event\",\n",
    "     \"range\" : \"Duration\"},\n",
    "\n",
    "    {\"name\" : \"occured_in_place\",\n",
    "     \"domain\" : \"Event\",\n",
    "     \"range\" : \"GeographicalRegion\"},\n",
    "\n",
    "    {\"name\" : \"occured_at_border\",\n",
    "     \"domain\" : \"Event\",\n",
    "     \"range\" : \"Border\"},\n",
    "\n",
    "    {\"name\" : \"involved\",\n",
    "     \"domain\" : \"Event\",\n",
    "     \"range\" : \"ThirdPartyActor\"},\n",
    "\n",
    "\n",
    "    \n",
    "\n",
    "]"
   ]
  },
  {
   "cell_type": "markdown",
   "metadata": {},
   "source": [
    "### Création config"
   ]
  },
  {
   "cell_type": "code",
   "execution_count": null,
   "metadata": {},
   "outputs": [],
   "source": [
    "config = {\n",
    "    \"entity_linker\" : entity_linker,\n",
    "    \"additional_classes\" : additional_classes,\n",
    "    \"additional_properties\" : additional_properties\n",
    "}"
   ]
  },
  {
   "cell_type": "markdown",
   "metadata": {},
   "source": [
    "## Instanciation objet"
   ]
  },
  {
   "cell_type": "code",
   "execution_count": null,
   "metadata": {},
   "outputs": [],
   "source": [
    "owl_generator = OwlGenerator(\n",
    "    triples = triples,\n",
    "    config=config,\n",
    "    onto_uri = \"http://smd#\"\n",
    ")"
   ]
  },
  {
   "cell_type": "markdown",
   "metadata": {},
   "source": [
    "## Ecriture ontologie"
   ]
  },
  {
   "cell_type": "code",
   "execution_count": null,
   "metadata": {},
   "outputs": [],
   "source": [
    "result_ontology = owl_generator.create_ontology()\n",
    "\n",
    "print(result_ontology)"
   ]
  },
  {
   "cell_type": "code",
   "execution_count": null,
   "metadata": {},
   "outputs": [],
   "source": [
    "import sys\n",
    "\n",
    "del sys.modules[\"named_individuals\"]"
   ]
  }
 ],
 "metadata": {
  "kernelspec": {
   "display_name": ".venv",
   "language": "python",
   "name": "python3"
  },
  "language_info": {
   "codemirror_mode": {
    "name": "ipython",
    "version": 3
   },
   "file_extension": ".py",
   "mimetype": "text/x-python",
   "name": "python",
   "nbconvert_exporter": "python",
   "pygments_lexer": "ipython3",
   "version": "3.12.3"
  }
 },
 "nbformat": 4,
 "nbformat_minor": 2
}
