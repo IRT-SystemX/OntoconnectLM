{
 "cells": [
  {
   "cell_type": "markdown",
   "metadata": {},
   "source": [
    "# Tests des objects Onto Connect\n",
    "\n",
    "`pip install langchain langchain-ollama`"
   ]
  },
  {
   "cell_type": "markdown",
   "metadata": {},
   "source": [
    "### Test import"
   ]
  },
  {
   "cell_type": "code",
   "execution_count": null,
   "metadata": {},
   "outputs": [],
   "source": [
    "from services.triplet_extractor import TripletExtractor"
   ]
  },
  {
   "cell_type": "markdown",
   "metadata": {},
   "source": [
    "### Test instanciation"
   ]
  },
  {
   "cell_type": "code",
   "execution_count": null,
   "metadata": {},
   "outputs": [],
   "source": [
    "from langchain_ollama import OllamaLLM\n",
    "\n",
    "llm = OllamaLLM(base_url=\"127.0.0.1:11434\" , model=\"mistral-small3.1:24b\")\n",
    "\n",
    "context_description = \"Les textes portent sur des incidents sur un réseau électrique.\"\n",
    "\n",
    "entity_types = [\n",
    "    \"Event\",\n",
    "    \"Datetime\",\n",
    "    \"Client\",\n",
    "    \"Location\",\n",
    "    \"PowerComponent\"\n",
    "]\n",
    "\n",
    "entity_descriptions = {\n",
    "    \"Event\" : \"Nom d'un événement pouvant survenir sur le réseau électrique.\",\n",
    "    \"Datetime\" : \"Indique la temporalité d'une action, d'un événement. Il s'agit d'une heure mais pas d'une date. Est souvent indiquée en début de paragraphe.\",\n",
    "    \"Client\" : \"Nom d'un client ou partenaire du gestionnaire du réseau.\",\n",
    "    \"Location\" : \"La zone géographique constitue tout lieu qui ne représente pas une infrastructure ou une division du gestionnaire électrique. Il s'agit le plus souvent de villes, de régions, de pays.\",\n",
    "    \"PowerComponent\" : \"Fait référence à un élément d'infrastructure du gestionnaire de réseau électrique. Il peut s'agir de différents types d'objets : transformateurs, lignes, postes.\"\n",
    "}\n",
    "\n",
    "relation_types = [\n",
    "    \"occuredAtTime\",\n",
    "    \"occuredAtPlace\",\n",
    "    \"hasOrigin\",\n",
    "    \"affectedComponent\",\n",
    "    \"impactedClient\",\n",
    "]\n",
    "\n",
    "relation_descriptions = {\n",
    "    \"occuredAtTime\" : \"Event --> Datetime\",\n",
    "    \"occuredAtPlace\" :  \"Event --> Location\",\n",
    "    \"hasOrigin\" :  \"Event --> Event\",\n",
    "    \"affectedComponent\" :  \"Event --> PowerComponent\",\n",
    "    \"impactedClient\" :  \"Event --> Client\"\n",
    "}\n",
    "\n",
    "extractor = TripletExtractor(\n",
    "    llm = llm,\n",
    "    context_description=context_description,\n",
    "    entity_types=entity_types,\n",
    "    entity_descriptions = entity_descriptions,\n",
    "    relation_types=relation_types,\n",
    "    relation_descriptions = relation_descriptions\n",
    ")\n"
   ]
  },
  {
   "cell_type": "markdown",
   "metadata": {},
   "source": [
    "### Données de test"
   ]
  },
  {
   "cell_type": "code",
   "execution_count": null,
   "metadata": {},
   "outputs": [],
   "source": [
    "# Données réalistes avec valeurs modifiées\n",
    "\n",
    "texts = [\n",
    "        \"\"\"Date et heure: 01/01/2000 à 00h11\n",
    "Frontière: Espagne\n",
    "Impact(s) et action(s) réalisée(s): Détection d'oscillation de fréquence à la frontière. Pas d'évènement pouvant expliquer ces oscillations.\"\"\",\n",
    " \"\"\"Date et heure: 01/01/2000 à 00h11\n",
    "Frontière: Espagne\n",
    "Impact(s) et action(s) réalisée(s): Détection d'oscillation de fréquence à la frontière. Pas d'évènement pouvant expliquer ces oscillations.\"\"\",\n",
    " \"\"\"Date et heure: 01/01/2000 à 00h11\n",
    "Frontière: Espagne\n",
    "Impact(s) et action(s) réalisée(s): Détection d'oscillation de fréquence à la frontière. Pas d'évènement pouvant expliquer ces oscillations.\"\"\"\n",
    "\n",
    "]"
   ]
  },
  {
   "cell_type": "markdown",
   "metadata": {},
   "source": [
    "### Test génération"
   ]
  },
  {
   "cell_type": "code",
   "execution_count": null,
   "metadata": {},
   "outputs": [],
   "source": [
    "results = extractor.run(texts) "
   ]
  },
  {
   "cell_type": "code",
   "execution_count": null,
   "metadata": {},
   "outputs": [],
   "source": [
    "results"
   ]
  },
  {
   "cell_type": "markdown",
   "metadata": {},
   "source": [
    "### Affichage"
   ]
  },
  {
   "cell_type": "code",
   "execution_count": null,
   "metadata": {},
   "outputs": [],
   "source": [
    "for text_triples in results:\n",
    "    for triplet in text_triples:\n",
    "        print(triplet[\"head\"] , \" (\" , triplet[\"head_type\"] , \") \" , triplet[\"label\"], triplet[\"tail\"] , \" (\" , triplet[\"tail_type\"] , \") \")"
   ]
  }
 ],
 "metadata": {
  "kernelspec": {
   "display_name": ".venv",
   "language": "python",
   "name": "python3"
  },
  "language_info": {
   "codemirror_mode": {
    "name": "ipython",
    "version": 3
   },
   "file_extension": ".py",
   "mimetype": "text/x-python",
   "name": "python",
   "nbconvert_exporter": "python",
   "pygments_lexer": "ipython3",
   "version": "3.11.12"
  }
 },
 "nbformat": 4,
 "nbformat_minor": 2
}
