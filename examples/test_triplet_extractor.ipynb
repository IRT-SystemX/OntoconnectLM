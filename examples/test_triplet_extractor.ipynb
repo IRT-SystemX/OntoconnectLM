{
 "cells": [
  {
   "cell_type": "markdown",
   "metadata": {},
   "source": [
    "# Test of the Triplex Extractor object"
   ]
  },
  {
   "cell_type": "markdown",
   "metadata": {},
   "source": [
    "### Import ontoconnectlm package"
   ]
  },
  {
   "cell_type": "code",
   "execution_count": null,
   "metadata": {},
   "outputs": [],
   "source": [
    "import sys\n",
    "\n",
    "sys.path.append(\"../\")"
   ]
  },
  {
   "cell_type": "markdown",
   "metadata": {},
   "source": [
    "This notebook describes the application of a Triplet Extractor to an input text.\n",
    "- Objective: Extract subject-predicate-object triplets from text using a specified LLM model.\n",
    "- Steps:\n",
    "    - Specify the input text: Define the text to be processed for triplet extraction.\n",
    "     -   Configure LLM Model Parameters: \n",
    "        - base_url: Specify the endpoint URL of the LLM model. \n",
    "        - model: Provide the model's name or identifier. \n",
    "    - Define Contextual Information: context_description, entity_descriptions and relation_types"
   ]
  },
  {
   "cell_type": "markdown",
   "metadata": {},
   "source": [
    "### Test import"
   ]
  },
  {
   "cell_type": "code",
   "execution_count": null,
   "metadata": {},
   "outputs": [],
   "source": [
    "from ontoconnectlm.triplet_extractor import TripletExtractor"
   ]
  },
  {
   "cell_type": "markdown",
   "metadata": {},
   "source": [
    "### Input data (end-user)"
   ]
  },
  {
   "cell_type": "code",
   "execution_count": null,
   "metadata": {},
   "outputs": [],
   "source": [
    "# Define the LLM object you would like to use\n",
    "from langchain_ollama import OllamaLLM\n",
    "\n",
    "llm = OllamaLLM(base_url=\"127.0.0.1:11434\" , model=\"mistral-small3.1:24b\")\n",
    "\n",
    "context_description = \"Les textes portent sur des incidents sur un réseau électrique.\"\n",
    "\n",
    "entity_types = [\n",
    "    \"Event\",\n",
    "    \"Datetime\",\n",
    "    \"Client\",\n",
    "    \"Location\",\n",
    "    \"PowerComponent\"\n",
    "]\n",
    "\n",
    "entity_descriptions = {\n",
    "    \"Event\" : \"Nom d'un événement pouvant survenir sur le réseau électrique.\",\n",
    "    \"Datetime\" : \"Indique la temporalité d'une action, d'un événement. Il s'agit d'une heure mais pas d'une date. Est souvent indiquée en début de paragraphe.\",\n",
    "    \"Client\" : \"Nom d'un client ou partenaire du gestionnaire du réseau.\",\n",
    "    \"Location\" : \"La zone géographique constitue tout lieu qui ne représente pas une infrastructure ou une division du gestionnaire électrique. Il s'agit le plus souvent de villes, de régions, de pays.\",\n",
    "    \"PowerComponent\" : \"Fait référence à un élément d'infrastructure du gestionnaire de réseau électrique. Il peut s'agir de différents types d'objets : transformateurs, lignes, postes.\"\n",
    "}\n",
    "\n",
    "relation_types = [\n",
    "    \"occuredAtTime\",\n",
    "    \"occuredAtPlace\",\n",
    "    \"hasOrigin\",\n",
    "    \"affectedComponent\",\n",
    "    \"impactedClient\",\n",
    "]\n",
    "\n",
    "relation_descriptions = {\n",
    "    \"occuredAtTime\" : \"Event --> Datetime\",\n",
    "    \"occuredAtPlace\" :  \"Event --> Location\",\n",
    "    \"hasOrigin\" :  \"Event --> Event\",\n",
    "    \"affectedComponent\" :  \"Event --> PowerComponent\",\n",
    "    \"impactedClient\" :  \"Event --> Client\"\n",
    "}\n",
    "\n",
    "extractor = TripletExtractor(\n",
    "    llm = llm,\n",
    "    context_description=context_description,\n",
    "    entity_types=entity_types,\n",
    "    entity_descriptions = entity_descriptions,\n",
    "    relation_types=relation_types,\n",
    "    relation_descriptions = relation_descriptions\n",
    ")\n",
    "\n",
    "# Mode Open Relation Extraction\n",
    "\n",
    "# extractor = TripletExtractor(\n",
    "#     llm = llm,\n",
    "#     context_description=context_description,\n",
    "# )"
   ]
  },
  {
   "cell_type": "markdown",
   "metadata": {},
   "source": [
    "### Données de test"
   ]
  },
  {
   "cell_type": "code",
   "execution_count": null,
   "metadata": {},
   "outputs": [],
   "source": [
    "# Données réalistes avec valeurs modifiées\n",
    "\n",
    "texts = [\n",
    "    \"\"\"Date et heure: 20/04/2012 à 07h11\n",
    "Frontière: Belgique\n",
    "Impact(s) et action(s) réalisée(s): Détection d'oscillation de fréquence à la frontière France Belgique par IDE. Pas d'évènement pouvant expliquer ces oscillations en France.\"\"\",\n",
    "\n",
    "\"\"\"Date et heure: 08/07/2003 à 08h40\n",
    "Centre: Haute-Normandie\n",
    "Ouvrage(s) concerné(s): Coupure longue de l'ACR de Nogent-sur-Marne au poste de Villejuif 225 kV (16 MW pendant 5 minutes) suite au déclenchement de la liaison 225 kV MASSY-PALAISEAU 4. Cf. MIN.\n",
    "Impact(s): Cf. MIN.\"\"\",\n",
    "\n",
    "\"\"\"Date et heure: 19/04/2016 à 16h32\n",
    "Centre: Bordeaux\n",
    "Ouvrage(s) concerné(s): Coupure longue des clients SystemX au poste de GIF 63 kV et CEA au poste de ETABLI 93 kV suite au déclenchement des lignes 93 kV TONNERRE-NUITS-SAINT-GEORGES 1 et BORDEAUX-SAINT-JEAN 93 kV.\n",
    "Impact(s): Coupure du CNRS.\"\"\"\n",
    "]"
   ]
  },
  {
   "cell_type": "markdown",
   "metadata": {},
   "source": [
    "### Test instanciation"
   ]
  },
  {
   "cell_type": "code",
   "execution_count": null,
   "metadata": {},
   "outputs": [],
   "source": [
    "from langchain_ollama import OllamaLLM\n",
    "\n",
    "# Set LLM configuration parameters\n",
    "llm = OllamaLLM(base_url=\"127.0.0.1:11434\" , model=\"mistral-small3.1:24b\")\n",
    "\n",
    "# Define context associated to the input data\n",
    "context_description = \"Les textes portent sur des incidents sur un réseau électrique.\"\n",
    "\n",
    "# List types of entities to be extracted from the input text \n",
    "entity_types = [\n",
    "    \"Event\",\n",
    "    \"Datetime\",\n",
    "    \"Client\",\n",
    "    \"Location\",\n",
    "    \"PowerComponent\"\n",
    "]\n",
    "\n",
    "# Provide associated decsriptions to entites to be extracted \n",
    "entity_descriptions = {\n",
    "    \"Event\" : \"Nom d'un événement pouvant survenir sur le réseau électrique.\",\n",
    "    \"Datetime\" : \"Indique la temporalité d'une action, d'un événement. Il s'agit d'une heure mais pas d'une date. Est souvent indiquée en début de paragraphe.\",\n",
    "    \"Client\" : \"Nom d'un client ou partenaire du gestionnaire du réseau.\",\n",
    "    \"Location\" : \"La zone géographique constitue tout lieu qui ne représente pas une infrastructure ou une division du gestionnaire électrique. Il s'agit le plus souvent de villes, de régions, de pays.\",\n",
    "    \"PowerComponent\" : \"Fait référence à un élément d'infrastructure du gestionnaire de réseau électrique. Il peut s'agir de différents types d'objets : transformateurs, lignes, postes.\"\n",
    "}\n",
    "\n",
    "# List relation types to be extracted from the input text and used \n",
    "relation_types = [\n",
    "    \"occuredAtTime\",\n",
    "    \"occuredAtPlace\",\n",
    "    \"hasOrigin\",\n",
    "    \"affectedComponent\",\n",
    "    \"impactedClient\",\n",
    "]\n",
    "\n",
    "# Indicate the domain and the range associated to each target relation\n",
    "relation_descriptions = {\n",
    "    \"occuredAtTime\" : \"Event --> Datetime\",\n",
    "    \"occuredAtPlace\" :  \"Event --> Location\",\n",
    "    \"hasOrigin\" :  \"Event --> Event\",\n",
    "    \"affectedComponent\" :  \"Event --> PowerComponent\",\n",
    "    \"impactedClient\" :  \"Event --> Client\"\n",
    "}\n",
    "\n",
    "# Setthe llm model parameters\n",
    "extractor = TripletExtractor(\n",
    "    llm = llm,\n",
    "    context_description=context_description,\n",
    "    entity_types=entity_types,\n",
    "    entity_descriptions = entity_descriptions,\n",
    "    relation_types=relation_types,\n",
    "    relation_descriptions = relation_descriptions\n",
    ")"
   ]
  },
  {
   "cell_type": "markdown",
   "metadata": {},
   "source": [
    "### Test triples generation"
   ]
  },
  {
   "cell_type": "code",
   "execution_count": null,
   "metadata": {},
   "outputs": [],
   "source": [
    "# Predict list of triples from the input text\n",
    "results = extractor.run(texts) "
   ]
  },
  {
   "cell_type": "code",
   "execution_count": null,
   "metadata": {},
   "outputs": [],
   "source": [
    "results"
   ]
  },
  {
   "cell_type": "markdown",
   "metadata": {},
   "source": [
    "### Display results"
   ]
  },
  {
   "cell_type": "code",
   "execution_count": null,
   "metadata": {},
   "outputs": [],
   "source": [
    "# List all the predicted triples related to the input text\n",
    "for text_triples in results:\n",
    "    for triplet in text_triples:\n",
    "        print(triplet[\"head\"] , \" (\" , triplet[\"head_type\"] , \") \" , triplet[\"label\"], triplet[\"tail\"] , \" (\" , triplet[\"tail_type\"] , \") \")"
   ]
  }
 ],
 "metadata": {
  "kernelspec": {
   "display_name": ".venv",
   "language": "python",
   "name": "python3"
  },
  "language_info": {
   "codemirror_mode": {
    "name": "ipython",
    "version": 3
   },
   "file_extension": ".py",
   "mimetype": "text/x-python",
   "name": "python",
   "nbconvert_exporter": "python",
   "pygments_lexer": "ipython3",
   "version": "3.12.3"
  }
 },
 "nbformat": 4,
 "nbformat_minor": 2
}
