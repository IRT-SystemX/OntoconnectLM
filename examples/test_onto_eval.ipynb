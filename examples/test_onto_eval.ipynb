{
 "cells": [
  {
   "cell_type": "markdown",
   "id": "839f6902",
   "metadata": {},
   "source": [
    "# Test OntoConnect ontology evaluation service "
   ]
  },
  {
   "cell_type": "markdown",
   "id": "d8739af0",
   "metadata": {},
   "source": [
    "Requirements \n",
    "- pandas - pip install openpyxl\n"
   ]
  },
  {
   "cell_type": "markdown",
   "id": "adbca231",
   "metadata": {},
   "source": [
    "### Test import"
   ]
  },
  {
   "cell_type": "code",
   "execution_count": null,
   "id": "58c89d7e",
   "metadata": {},
   "outputs": [],
   "source": [
    "from services.onto_eval import eval"
   ]
  },
  {
   "cell_type": "markdown",
   "id": "8ccdd1c5",
   "metadata": {},
   "source": [
    "### Test upload ontology file"
   ]
  },
  {
   "cell_type": "code",
   "execution_count": null,
   "id": "55c2b185",
   "metadata": {},
   "outputs": [],
   "source": [
    "onto_path= \"Enriched_onto_v2_1.owl\" # Here: specify your ontology path\n",
    "\n",
    "onto_uri = \"https://git.local.com/Enriched_onto_v2_1.owl\""
   ]
  },
  {
   "cell_type": "markdown",
   "id": "e804032d",
   "metadata": {},
   "source": [
    "### Test Scaning ontology and detecting important/minor pitfalls"
   ]
  },
  {
   "cell_type": "code",
   "execution_count": null,
   "id": "39cf6bdc",
   "metadata": {},
   "outputs": [],
   "source": [
    "syntaxic_analysis = eval.eval_oops_api(onto_path)\n",
    "\n",
    "print(syntaxic_analysis)"
   ]
  },
  {
   "cell_type": "markdown",
   "id": "70af4455",
   "metadata": {},
   "source": [
    "### Test scaning ontology and analyse the F-A-I-R quality"
   ]
  },
  {
   "cell_type": "code",
   "execution_count": null,
   "id": "bafb7873",
   "metadata": {},
   "outputs": [],
   "source": [
    "fair_analysis = eval.eval_foops_api(onto_uri)\n",
    "\n",
    "print(fair_analysis)"
   ]
  }
 ],
 "metadata": {
  "kernelspec": {
   "display_name": "SMD_environment",
   "language": "python",
   "name": "python3"
  },
  "language_info": {
   "codemirror_mode": {
    "name": "ipython",
    "version": 3
   },
   "file_extension": ".py",
   "mimetype": "text/x-python",
   "name": "python",
   "nbconvert_exporter": "python",
   "pygments_lexer": "ipython3",
   "version": "3.11.5"
  }
 },
 "nbformat": 4,
 "nbformat_minor": 5
}
